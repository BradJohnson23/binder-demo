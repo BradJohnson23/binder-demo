{
 "cells": [
  {
   "cell_type": "code",
   "execution_count": 2,
   "metadata": {
    "cell_id": "00000-2e8ee293-74db-41eb-a881-8fb69b5d6c8e",
    "tags": []
   },
   "outputs": [
    {
     "name": "stdout",
     "output_type": "stream",
     "text": [
      "Requirement already satisfied: twinthread in /Users/brad/Documents/GitHub/Model-Pipeline/.venv/lib/python3.6/site-packages (0.8.0)\n",
      "Requirement already satisfied: matplotlib<4.0.0,>=3.2.2 in /Users/brad/Documents/GitHub/Model-Pipeline/.venv/lib/python3.6/site-packages (from twinthread) (3.3.0)\n",
      "Requirement already satisfied: azure-storage-blob<13.0.0,>=12.3.1 in /Users/brad/Documents/GitHub/Model-Pipeline/.venv/lib/python3.6/site-packages (from twinthread) (12.8.0)\n",
      "Requirement already satisfied: simplejson<4.0.0,>=3.17.0 in /Users/brad/Documents/GitHub/Model-Pipeline/.venv/lib/python3.6/site-packages (from twinthread) (3.17.2)\n",
      "Requirement already satisfied: pandas<2.0.0,>=1.0.4 in /Users/brad/Documents/GitHub/Model-Pipeline/.venv/lib/python3.6/site-packages (from twinthread) (1.1.0)\n",
      "Requirement already satisfied: requests_toolbelt<0.10.0,>=0.9.1 in /Users/brad/Documents/GitHub/Model-Pipeline/.venv/lib/python3.6/site-packages (from twinthread) (0.9.1)\n",
      "Requirement already satisfied: plotly<5.0.0,>=4.8.1 in /Users/brad/Documents/GitHub/Model-Pipeline/.venv/lib/python3.6/site-packages (from twinthread) (4.14.3)\n",
      "Requirement already satisfied: requests<3.0.0,>=2.23.0 in /Users/brad/Documents/GitHub/Model-Pipeline/.venv/lib/python3.6/site-packages (from twinthread) (2.24.0)\n",
      "Requirement already satisfied: azure-core<2.0.0,>=1.10.0 in /Users/brad/Documents/GitHub/Model-Pipeline/.venv/lib/python3.6/site-packages (from azure-storage-blob<13.0.0,>=12.3.1->twinthread) (1.10.0)\n",
      "Requirement already satisfied: msrest>=0.6.18 in /Users/brad/Documents/GitHub/Model-Pipeline/.venv/lib/python3.6/site-packages (from azure-storage-blob<13.0.0,>=12.3.1->twinthread) (0.6.21)\n",
      "Requirement already satisfied: cryptography>=2.1.4 in /Users/brad/Documents/GitHub/Model-Pipeline/.venv/lib/python3.6/site-packages (from azure-storage-blob<13.0.0,>=12.3.1->twinthread) (3.2.1)\n",
      "Requirement already satisfied: six>=1.6 in /Users/brad/Documents/GitHub/Model-Pipeline/.venv/lib/python3.6/site-packages (from azure-core<2.0.0,>=1.10.0->azure-storage-blob<13.0.0,>=12.3.1->twinthread) (1.15.0)\n",
      "Requirement already satisfied: cffi!=1.11.3,>=1.8 in /Users/brad/Documents/GitHub/Model-Pipeline/.venv/lib/python3.6/site-packages (from cryptography>=2.1.4->azure-storage-blob<13.0.0,>=12.3.1->twinthread) (1.14.4)\n",
      "Requirement already satisfied: pycparser in /Users/brad/Documents/GitHub/Model-Pipeline/.venv/lib/python3.6/site-packages (from cffi!=1.11.3,>=1.8->cryptography>=2.1.4->azure-storage-blob<13.0.0,>=12.3.1->twinthread) (2.20)\n",
      "Requirement already satisfied: numpy>=1.15 in /Users/brad/Documents/GitHub/Model-Pipeline/.venv/lib/python3.6/site-packages (from matplotlib<4.0.0,>=3.2.2->twinthread) (1.19.4)\n",
      "Requirement already satisfied: cycler>=0.10 in /Users/brad/Documents/GitHub/Model-Pipeline/.venv/lib/python3.6/site-packages (from matplotlib<4.0.0,>=3.2.2->twinthread) (0.10.0)\n",
      "Requirement already satisfied: pillow>=6.2.0 in /Users/brad/Documents/GitHub/Model-Pipeline/.venv/lib/python3.6/site-packages (from matplotlib<4.0.0,>=3.2.2->twinthread) (7.2.0)\n",
      "Requirement already satisfied: python-dateutil>=2.1 in /Users/brad/Documents/GitHub/Model-Pipeline/.venv/lib/python3.6/site-packages (from matplotlib<4.0.0,>=3.2.2->twinthread) (2.8.1)\n",
      "Requirement already satisfied: pyparsing!=2.0.4,!=2.1.2,!=2.1.6,>=2.0.3 in /Users/brad/Documents/GitHub/Model-Pipeline/.venv/lib/python3.6/site-packages (from matplotlib<4.0.0,>=3.2.2->twinthread) (2.4.7)\n",
      "Requirement already satisfied: kiwisolver>=1.0.1 in /Users/brad/Documents/GitHub/Model-Pipeline/.venv/lib/python3.6/site-packages (from matplotlib<4.0.0,>=3.2.2->twinthread) (1.2.0)\n",
      "Requirement already satisfied: isodate>=0.6.0 in /Users/brad/Documents/GitHub/Model-Pipeline/.venv/lib/python3.6/site-packages (from msrest>=0.6.18->azure-storage-blob<13.0.0,>=12.3.1->twinthread) (0.6.0)\n",
      "Requirement already satisfied: requests-oauthlib>=0.5.0 in /Users/brad/Documents/GitHub/Model-Pipeline/.venv/lib/python3.6/site-packages (from msrest>=0.6.18->azure-storage-blob<13.0.0,>=12.3.1->twinthread) (1.3.0)\n",
      "Requirement already satisfied: certifi>=2017.4.17 in /Users/brad/Documents/GitHub/Model-Pipeline/.venv/lib/python3.6/site-packages (from msrest>=0.6.18->azure-storage-blob<13.0.0,>=12.3.1->twinthread) (2020.11.8)\n",
      "Requirement already satisfied: pytz>=2017.2 in /Users/brad/Documents/GitHub/Model-Pipeline/.venv/lib/python3.6/site-packages (from pandas<2.0.0,>=1.0.4->twinthread) (2020.1)\n",
      "Requirement already satisfied: retrying>=1.3.3 in /Users/brad/Documents/GitHub/Model-Pipeline/.venv/lib/python3.6/site-packages (from plotly<5.0.0,>=4.8.1->twinthread) (1.3.3)\n",
      "Requirement already satisfied: chardet<4,>=3.0.2 in /Users/brad/Documents/GitHub/Model-Pipeline/.venv/lib/python3.6/site-packages (from requests<3.0.0,>=2.23.0->twinthread) (3.0.4)\n",
      "Requirement already satisfied: idna<3,>=2.5 in /Users/brad/Documents/GitHub/Model-Pipeline/.venv/lib/python3.6/site-packages (from requests<3.0.0,>=2.23.0->twinthread) (2.10)\n",
      "Requirement already satisfied: urllib3!=1.25.0,!=1.25.1,<1.26,>=1.21.1 in /Users/brad/Documents/GitHub/Model-Pipeline/.venv/lib/python3.6/site-packages (from requests<3.0.0,>=2.23.0->twinthread) (1.25.11)\n",
      "Requirement already satisfied: oauthlib>=3.0.0 in /Users/brad/Documents/GitHub/Model-Pipeline/.venv/lib/python3.6/site-packages (from requests-oauthlib>=0.5.0->msrest>=0.6.18->azure-storage-blob<13.0.0,>=12.3.1->twinthread) (3.1.0)\n",
      "\u001b[33mWARNING: You are using pip version 20.3.3; however, version 21.0.1 is available.\n",
      "You should consider upgrading via the '/Users/brad/Documents/GitHub/Model-Pipeline/.venv/bin/python -m pip install --upgrade pip' command.\u001b[0m\n"
     ]
    }
   ],
   "source": [
    "# You can skip this if you already have TwinThread's python library installed\n",
    "!pip install twinthread --upgrade"
   ]
  },
  {
   "cell_type": "markdown",
   "metadata": {
    "cell_id": "00003-74b12fdc-d04b-4844-a426-26d9f8687b66",
    "tags": []
   },
   "source": [
    "## Log into TwinThread"
   ]
  },
  {
   "cell_type": "code",
   "execution_count": 5,
   "metadata": {
    "cell_id": "00000-589c1e6f-edda-4ab0-a800-c683ba35c706",
    "execution_millis": 767,
    "execution_start": 1605128466167,
    "output_cleared": true,
    "scrolled": false,
    "source_hash": null
   },
   "outputs": [
    {
     "data": {
      "text/html": [
       "        <script type=\"text/javascript\">\n",
       "        window.PlotlyConfig = {MathJaxConfig: 'local'};\n",
       "        if (window.MathJax) {MathJax.Hub.Config({SVG: {font: \"STIX-Web\"}});}\n",
       "        if (typeof require !== 'undefined') {\n",
       "        require.undef(\"plotly\");\n",
       "        requirejs.config({\n",
       "            paths: {\n",
       "                'plotly': ['https://cdn.plot.ly/plotly-latest.min']\n",
       "            }\n",
       "        });\n",
       "        require(['plotly'], function(Plotly) {\n",
       "            window._Plotly = Plotly;\n",
       "        });\n",
       "        }\n",
       "        </script>\n",
       "        "
      ]
     },
     "metadata": {},
     "output_type": "display_data"
    },
    {
     "name": "stdout",
     "output_type": "stream",
     "text": [
      "Password?········\n",
      "Login succeeded\n"
     ]
    }
   ],
   "source": [
    "from twinthread import TwinThreadClient\n",
    "from matplotlib import pyplot as plt\n",
    "from plotly.offline import init_notebook_mode, iplot\n",
    "init_notebook_mode(connected=True)\n",
    "\n",
    "client = TwinThreadClient()\n",
    "client.login(\"brad.johnson@twinthread.com\")\n",
    "\n",
    "client.set_context({\"taskId\": 117418, \"assetModelId\": 7852})\n",
    "\n",
    "data = client.get_input_data()"
   ]
  },
  {
   "cell_type": "code",
   "execution_count": 6,
   "metadata": {},
   "outputs": [
    {
     "data": {
      "text/html": [
       "<div>\n",
       "<style scoped>\n",
       "    .dataframe tbody tr th:only-of-type {\n",
       "        vertical-align: middle;\n",
       "    }\n",
       "\n",
       "    .dataframe tbody tr th {\n",
       "        vertical-align: top;\n",
       "    }\n",
       "\n",
       "    .dataframe thead th {\n",
       "        text-align: right;\n",
       "    }\n",
       "</style>\n",
       "<table border=\"1\" class=\"dataframe\">\n",
       "  <thead>\n",
       "    <tr style=\"text-align: right;\">\n",
       "      <th></th>\n",
       "      <th>Timestamp</th>\n",
       "      <th>Predict.Last</th>\n",
       "      <th>syntheticdata0Average.Average</th>\n",
       "      <th>syntheticdata0Hi.Average</th>\n",
       "      <th>syntheticdata0Lo.Average</th>\n",
       "      <th>syntheticdata0Slope.Average</th>\n",
       "      <th>syntheticdata0StDev.Average</th>\n",
       "      <th>syntheticdata1Average.Average</th>\n",
       "      <th>syntheticdata1Hi.Average</th>\n",
       "      <th>syntheticdata1Lo.Average</th>\n",
       "      <th>...</th>\n",
       "      <th>syntheticdata3Average.Average</th>\n",
       "      <th>syntheticdata3Hi.Average</th>\n",
       "      <th>syntheticdata3Lo.Average</th>\n",
       "      <th>syntheticdata3Slope.Average</th>\n",
       "      <th>syntheticdata3StDev.Average</th>\n",
       "      <th>syntheticdata4Hi.Average</th>\n",
       "      <th>syntheticdata4Lo.Average</th>\n",
       "      <th>syntheticdata4Slope.Average</th>\n",
       "      <th>syntheticdata4StDev.Average</th>\n",
       "      <th>segment</th>\n",
       "    </tr>\n",
       "  </thead>\n",
       "  <tbody>\n",
       "    <tr>\n",
       "      <th>0</th>\n",
       "      <td>2021-01-26 16:22:38.000</td>\n",
       "      <td>968.7402</td>\n",
       "      <td>775.53687</td>\n",
       "      <td>775.71105</td>\n",
       "      <td>775.35209</td>\n",
       "      <td>0.02101</td>\n",
       "      <td>0.14432</td>\n",
       "      <td>72.85795</td>\n",
       "      <td>73.56336</td>\n",
       "      <td>72.12134</td>\n",
       "      <td>...</td>\n",
       "      <td>237.00447</td>\n",
       "      <td>238.69539</td>\n",
       "      <td>235.64616</td>\n",
       "      <td>0.22048</td>\n",
       "      <td>1.21002</td>\n",
       "      <td>969.0</td>\n",
       "      <td>967.96073</td>\n",
       "      <td>-0.01834</td>\n",
       "      <td>0.48526</td>\n",
       "      <td>default</td>\n",
       "    </tr>\n",
       "    <tr>\n",
       "      <th>1</th>\n",
       "      <td>2021-01-26 17:22:38.000</td>\n",
       "      <td>968.8128</td>\n",
       "      <td>775.59656</td>\n",
       "      <td>775.80117</td>\n",
       "      <td>775.37544</td>\n",
       "      <td>0.01031</td>\n",
       "      <td>0.16525</td>\n",
       "      <td>72.78808</td>\n",
       "      <td>73.32505</td>\n",
       "      <td>72.15773</td>\n",
       "      <td>...</td>\n",
       "      <td>236.89507</td>\n",
       "      <td>238.13152</td>\n",
       "      <td>235.60731</td>\n",
       "      <td>-0.16705</td>\n",
       "      <td>0.98868</td>\n",
       "      <td>969.0</td>\n",
       "      <td>968.22885</td>\n",
       "      <td>0.08685</td>\n",
       "      <td>0.36176</td>\n",
       "      <td>default</td>\n",
       "    </tr>\n",
       "    <tr>\n",
       "      <th>2</th>\n",
       "      <td>2021-01-26 18:22:38.000</td>\n",
       "      <td>969.0000</td>\n",
       "      <td>775.57150</td>\n",
       "      <td>775.82133</td>\n",
       "      <td>775.31079</td>\n",
       "      <td>0.04309</td>\n",
       "      <td>0.20714</td>\n",
       "      <td>72.85217</td>\n",
       "      <td>73.51040</td>\n",
       "      <td>72.24631</td>\n",
       "      <td>...</td>\n",
       "      <td>237.02369</td>\n",
       "      <td>238.25825</td>\n",
       "      <td>235.97920</td>\n",
       "      <td>0.16165</td>\n",
       "      <td>0.91060</td>\n",
       "      <td>969.0</td>\n",
       "      <td>968.10612</td>\n",
       "      <td>0.01886</td>\n",
       "      <td>0.43293</td>\n",
       "      <td>default</td>\n",
       "    </tr>\n",
       "    <tr>\n",
       "      <th>3</th>\n",
       "      <td>2021-01-26 19:22:38.000</td>\n",
       "      <td>968.8072</td>\n",
       "      <td>775.60380</td>\n",
       "      <td>775.87211</td>\n",
       "      <td>775.38416</td>\n",
       "      <td>0.00532</td>\n",
       "      <td>0.18800</td>\n",
       "      <td>72.76505</td>\n",
       "      <td>73.28231</td>\n",
       "      <td>71.93464</td>\n",
       "      <td>...</td>\n",
       "      <td>237.06993</td>\n",
       "      <td>238.29617</td>\n",
       "      <td>236.18250</td>\n",
       "      <td>0.03391</td>\n",
       "      <td>0.88612</td>\n",
       "      <td>969.0</td>\n",
       "      <td>968.18001</td>\n",
       "      <td>-0.02490</td>\n",
       "      <td>0.38516</td>\n",
       "      <td>default</td>\n",
       "    </tr>\n",
       "    <tr>\n",
       "      <th>4</th>\n",
       "      <td>2021-01-26 20:22:38.000</td>\n",
       "      <td>968.5319</td>\n",
       "      <td>775.58503</td>\n",
       "      <td>775.78772</td>\n",
       "      <td>775.38715</td>\n",
       "      <td>0.02601</td>\n",
       "      <td>0.16311</td>\n",
       "      <td>72.90828</td>\n",
       "      <td>73.53399</td>\n",
       "      <td>72.12032</td>\n",
       "      <td>...</td>\n",
       "      <td>236.97309</td>\n",
       "      <td>238.40038</td>\n",
       "      <td>235.85465</td>\n",
       "      <td>0.13338</td>\n",
       "      <td>1.03504</td>\n",
       "      <td>969.0</td>\n",
       "      <td>968.22935</td>\n",
       "      <td>0.01380</td>\n",
       "      <td>0.39335</td>\n",
       "      <td>default</td>\n",
       "    </tr>\n",
       "    <tr>\n",
       "      <th>...</th>\n",
       "      <td>...</td>\n",
       "      <td>...</td>\n",
       "      <td>...</td>\n",
       "      <td>...</td>\n",
       "      <td>...</td>\n",
       "      <td>...</td>\n",
       "      <td>...</td>\n",
       "      <td>...</td>\n",
       "      <td>...</td>\n",
       "      <td>...</td>\n",
       "      <td>...</td>\n",
       "      <td>...</td>\n",
       "      <td>...</td>\n",
       "      <td>...</td>\n",
       "      <td>...</td>\n",
       "      <td>...</td>\n",
       "      <td>...</td>\n",
       "      <td>...</td>\n",
       "      <td>...</td>\n",
       "      <td>...</td>\n",
       "      <td>...</td>\n",
       "    </tr>\n",
       "    <tr>\n",
       "      <th>714</th>\n",
       "      <td>2021-02-25 10:22:38.000</td>\n",
       "      <td>968.5495</td>\n",
       "      <td>773.96100</td>\n",
       "      <td>774.10800</td>\n",
       "      <td>773.65600</td>\n",
       "      <td>0.04309</td>\n",
       "      <td>0.17690</td>\n",
       "      <td>73.24491</td>\n",
       "      <td>73.86647</td>\n",
       "      <td>72.28388</td>\n",
       "      <td>...</td>\n",
       "      <td>236.84400</td>\n",
       "      <td>237.16650</td>\n",
       "      <td>236.63190</td>\n",
       "      <td>-0.02651</td>\n",
       "      <td>0.26371</td>\n",
       "      <td>969.0</td>\n",
       "      <td>967.76230</td>\n",
       "      <td>-0.24753</td>\n",
       "      <td>0.62188</td>\n",
       "      <td>default</td>\n",
       "    </tr>\n",
       "    <tr>\n",
       "      <th>715</th>\n",
       "      <td>2021-02-25 11:22:38.000</td>\n",
       "      <td>968.5495</td>\n",
       "      <td>773.96100</td>\n",
       "      <td>774.10800</td>\n",
       "      <td>773.65600</td>\n",
       "      <td>0.04309</td>\n",
       "      <td>0.17690</td>\n",
       "      <td>73.24491</td>\n",
       "      <td>73.86647</td>\n",
       "      <td>72.28388</td>\n",
       "      <td>...</td>\n",
       "      <td>236.84400</td>\n",
       "      <td>237.16650</td>\n",
       "      <td>236.63190</td>\n",
       "      <td>-0.02651</td>\n",
       "      <td>0.26371</td>\n",
       "      <td>969.0</td>\n",
       "      <td>967.76230</td>\n",
       "      <td>-0.24753</td>\n",
       "      <td>0.62188</td>\n",
       "      <td>default</td>\n",
       "    </tr>\n",
       "    <tr>\n",
       "      <th>716</th>\n",
       "      <td>2021-02-25 12:22:38.000</td>\n",
       "      <td>968.5495</td>\n",
       "      <td>773.96100</td>\n",
       "      <td>774.10800</td>\n",
       "      <td>773.65600</td>\n",
       "      <td>0.04309</td>\n",
       "      <td>0.17690</td>\n",
       "      <td>73.24491</td>\n",
       "      <td>73.86647</td>\n",
       "      <td>72.28388</td>\n",
       "      <td>...</td>\n",
       "      <td>236.84400</td>\n",
       "      <td>237.16650</td>\n",
       "      <td>236.63190</td>\n",
       "      <td>-0.02651</td>\n",
       "      <td>0.26371</td>\n",
       "      <td>969.0</td>\n",
       "      <td>967.76230</td>\n",
       "      <td>-0.24753</td>\n",
       "      <td>0.62188</td>\n",
       "      <td>default</td>\n",
       "    </tr>\n",
       "    <tr>\n",
       "      <th>717</th>\n",
       "      <td>2021-02-25 13:22:38.000</td>\n",
       "      <td>968.5495</td>\n",
       "      <td>773.96100</td>\n",
       "      <td>774.10800</td>\n",
       "      <td>773.65600</td>\n",
       "      <td>0.04309</td>\n",
       "      <td>0.17690</td>\n",
       "      <td>73.24491</td>\n",
       "      <td>73.86647</td>\n",
       "      <td>72.28388</td>\n",
       "      <td>...</td>\n",
       "      <td>236.84400</td>\n",
       "      <td>237.16650</td>\n",
       "      <td>236.63190</td>\n",
       "      <td>-0.02651</td>\n",
       "      <td>0.26371</td>\n",
       "      <td>969.0</td>\n",
       "      <td>967.76230</td>\n",
       "      <td>-0.24753</td>\n",
       "      <td>0.62188</td>\n",
       "      <td>default</td>\n",
       "    </tr>\n",
       "    <tr>\n",
       "      <th>718</th>\n",
       "      <td>2021-02-25 14:22:38.000</td>\n",
       "      <td>968.5495</td>\n",
       "      <td>773.96100</td>\n",
       "      <td>774.10800</td>\n",
       "      <td>773.65600</td>\n",
       "      <td>0.04309</td>\n",
       "      <td>0.17690</td>\n",
       "      <td>73.24491</td>\n",
       "      <td>73.86647</td>\n",
       "      <td>72.28388</td>\n",
       "      <td>...</td>\n",
       "      <td>236.84400</td>\n",
       "      <td>237.16650</td>\n",
       "      <td>236.63190</td>\n",
       "      <td>-0.02651</td>\n",
       "      <td>0.26371</td>\n",
       "      <td>969.0</td>\n",
       "      <td>967.76230</td>\n",
       "      <td>-0.24753</td>\n",
       "      <td>0.62188</td>\n",
       "      <td>default</td>\n",
       "    </tr>\n",
       "  </tbody>\n",
       "</table>\n",
       "<p>719 rows × 27 columns</p>\n",
       "</div>"
      ],
      "text/plain": [
       "                   Timestamp  Predict.Last  syntheticdata0Average.Average  \\\n",
       "0    2021-01-26 16:22:38.000      968.7402                      775.53687   \n",
       "1    2021-01-26 17:22:38.000      968.8128                      775.59656   \n",
       "2    2021-01-26 18:22:38.000      969.0000                      775.57150   \n",
       "3    2021-01-26 19:22:38.000      968.8072                      775.60380   \n",
       "4    2021-01-26 20:22:38.000      968.5319                      775.58503   \n",
       "..                       ...           ...                            ...   \n",
       "714  2021-02-25 10:22:38.000      968.5495                      773.96100   \n",
       "715  2021-02-25 11:22:38.000      968.5495                      773.96100   \n",
       "716  2021-02-25 12:22:38.000      968.5495                      773.96100   \n",
       "717  2021-02-25 13:22:38.000      968.5495                      773.96100   \n",
       "718  2021-02-25 14:22:38.000      968.5495                      773.96100   \n",
       "\n",
       "     syntheticdata0Hi.Average  syntheticdata0Lo.Average  \\\n",
       "0                   775.71105                 775.35209   \n",
       "1                   775.80117                 775.37544   \n",
       "2                   775.82133                 775.31079   \n",
       "3                   775.87211                 775.38416   \n",
       "4                   775.78772                 775.38715   \n",
       "..                        ...                       ...   \n",
       "714                 774.10800                 773.65600   \n",
       "715                 774.10800                 773.65600   \n",
       "716                 774.10800                 773.65600   \n",
       "717                 774.10800                 773.65600   \n",
       "718                 774.10800                 773.65600   \n",
       "\n",
       "     syntheticdata0Slope.Average  syntheticdata0StDev.Average  \\\n",
       "0                        0.02101                      0.14432   \n",
       "1                        0.01031                      0.16525   \n",
       "2                        0.04309                      0.20714   \n",
       "3                        0.00532                      0.18800   \n",
       "4                        0.02601                      0.16311   \n",
       "..                           ...                          ...   \n",
       "714                      0.04309                      0.17690   \n",
       "715                      0.04309                      0.17690   \n",
       "716                      0.04309                      0.17690   \n",
       "717                      0.04309                      0.17690   \n",
       "718                      0.04309                      0.17690   \n",
       "\n",
       "     syntheticdata1Average.Average  syntheticdata1Hi.Average  \\\n",
       "0                         72.85795                  73.56336   \n",
       "1                         72.78808                  73.32505   \n",
       "2                         72.85217                  73.51040   \n",
       "3                         72.76505                  73.28231   \n",
       "4                         72.90828                  73.53399   \n",
       "..                             ...                       ...   \n",
       "714                       73.24491                  73.86647   \n",
       "715                       73.24491                  73.86647   \n",
       "716                       73.24491                  73.86647   \n",
       "717                       73.24491                  73.86647   \n",
       "718                       73.24491                  73.86647   \n",
       "\n",
       "     syntheticdata1Lo.Average  ...  syntheticdata3Average.Average  \\\n",
       "0                    72.12134  ...                      237.00447   \n",
       "1                    72.15773  ...                      236.89507   \n",
       "2                    72.24631  ...                      237.02369   \n",
       "3                    71.93464  ...                      237.06993   \n",
       "4                    72.12032  ...                      236.97309   \n",
       "..                        ...  ...                            ...   \n",
       "714                  72.28388  ...                      236.84400   \n",
       "715                  72.28388  ...                      236.84400   \n",
       "716                  72.28388  ...                      236.84400   \n",
       "717                  72.28388  ...                      236.84400   \n",
       "718                  72.28388  ...                      236.84400   \n",
       "\n",
       "     syntheticdata3Hi.Average  syntheticdata3Lo.Average  \\\n",
       "0                   238.69539                 235.64616   \n",
       "1                   238.13152                 235.60731   \n",
       "2                   238.25825                 235.97920   \n",
       "3                   238.29617                 236.18250   \n",
       "4                   238.40038                 235.85465   \n",
       "..                        ...                       ...   \n",
       "714                 237.16650                 236.63190   \n",
       "715                 237.16650                 236.63190   \n",
       "716                 237.16650                 236.63190   \n",
       "717                 237.16650                 236.63190   \n",
       "718                 237.16650                 236.63190   \n",
       "\n",
       "     syntheticdata3Slope.Average  syntheticdata3StDev.Average  \\\n",
       "0                        0.22048                      1.21002   \n",
       "1                       -0.16705                      0.98868   \n",
       "2                        0.16165                      0.91060   \n",
       "3                        0.03391                      0.88612   \n",
       "4                        0.13338                      1.03504   \n",
       "..                           ...                          ...   \n",
       "714                     -0.02651                      0.26371   \n",
       "715                     -0.02651                      0.26371   \n",
       "716                     -0.02651                      0.26371   \n",
       "717                     -0.02651                      0.26371   \n",
       "718                     -0.02651                      0.26371   \n",
       "\n",
       "     syntheticdata4Hi.Average  syntheticdata4Lo.Average  \\\n",
       "0                       969.0                 967.96073   \n",
       "1                       969.0                 968.22885   \n",
       "2                       969.0                 968.10612   \n",
       "3                       969.0                 968.18001   \n",
       "4                       969.0                 968.22935   \n",
       "..                        ...                       ...   \n",
       "714                     969.0                 967.76230   \n",
       "715                     969.0                 967.76230   \n",
       "716                     969.0                 967.76230   \n",
       "717                     969.0                 967.76230   \n",
       "718                     969.0                 967.76230   \n",
       "\n",
       "     syntheticdata4Slope.Average  syntheticdata4StDev.Average  segment  \n",
       "0                       -0.01834                      0.48526  default  \n",
       "1                        0.08685                      0.36176  default  \n",
       "2                        0.01886                      0.43293  default  \n",
       "3                       -0.02490                      0.38516  default  \n",
       "4                        0.01380                      0.39335  default  \n",
       "..                           ...                          ...      ...  \n",
       "714                     -0.24753                      0.62188  default  \n",
       "715                     -0.24753                      0.62188  default  \n",
       "716                     -0.24753                      0.62188  default  \n",
       "717                     -0.24753                      0.62188  default  \n",
       "718                     -0.24753                      0.62188  default  \n",
       "\n",
       "[719 rows x 27 columns]"
      ]
     },
     "execution_count": 6,
     "metadata": {},
     "output_type": "execute_result"
    }
   ],
   "source": [
    "data"
   ]
  },
  {
   "cell_type": "code",
   "execution_count": 14,
   "metadata": {},
   "outputs": [
    {
     "data": {
      "text/plain": [
       "<AxesSubplot:xlabel='syntheticdata0Average.Average', ylabel='syntheticdata0Hi.Average'>"
      ]
     },
     "execution_count": 14,
     "metadata": {},
     "output_type": "execute_result"
    },
    {
     "data": {
      "image/png": "[encoded data removed]",
      "text/plain": [
       "<Figure size 432x288 with 1 Axes>"
      ]
     },
     "metadata": {
      "needs_background": "light"
     },
     "output_type": "display_data"
    }
   ],
   "source": [
    "view = [data.columns[2], data.columns[3]]\n",
    "data[view].plot(kind='scatter', x=view[0], y=view[1])"
   ]
  },
  {
   "cell_type": "code",
   "execution_count": 7,
   "metadata": {},
   "outputs": [
    {
     "data": {
      "text/plain": [
       "<AxesSubplot:>"
      ]
     },
     "execution_count": 7,
     "metadata": {},
     "output_type": "execute_result"
    },
    {
     "data": {
      "image/png": "[encoded data removed]",
      "text/plain": [
       "<Figure size 432x288 with 1 Axes>"
      ]
     },
     "metadata": {
      "needs_background": "light"
     },
     "output_type": "display_data"
    }
   ],
   "source": [
    "data['Predict.Last'].plot()"
   ]
  },
  {
   "cell_type": "markdown",
   "metadata": {
    "cell_id": "00003-74b12fdc-d04b-4844-a426-26d9f8687b65",
    "tags": []
   },
   "source": [
    "## Output a table into TwinThread"
   ]
  },
  {
   "cell_type": "code",
   "execution_count": 8,
   "metadata": {
    "cell_id": "00001-3e702a7a-9338-4ca6-8604-081f8a21482b",
    "execution_millis": 29,
    "execution_start": 1605197665752,
    "output_cleared": true,
    "source_hash": null,
    "tags": []
   },
   "outputs": [
    {
     "name": "stdout",
     "output_type": "stream",
     "text": [
      "{'assetModelId': '7852', 'taskId': '117418', 'name': '7852_117418_normalizedinput_org_i0', 'description': 'Normalized input', 'file': ('7852_117418_normalizedinput_org_i0', <_io.BufferedReader name=\"<class 'type'>_Normalized input\">, 'text/csv')}\n",
      "Saved table Normalized input\n"
     ]
    }
   ],
   "source": [
    "numerics = data.select_dtypes(exclude=\"O\")\n",
    "normalized = numerics / numerics.max()\n",
    "\n",
    "client.save_table(normalized, \"Normalized input\")"
   ]
  },
  {
   "cell_type": "markdown",
   "metadata": {
    "cell_id": "00001-15de237e-6878-4ab1-8193-e48465587a88"
   },
   "source": [
    "## Plotly"
   ]
  },
  {
   "cell_type": "code",
   "execution_count": 9,
   "metadata": {
    "cell_id": "00002-a3028c3c-cd73-4bc3-a5fb-9f7d5f2389eb",
    "output_cleared": true,
    "source_hash": null
   },
   "outputs": [
    {
     "data": {
      "application/vnd.plotly.v1+json": {
       "config": {
        "plotlyServerURL": "https://plot.ly"
       },
       "data": [
        {
         "alignmentgroup": "True",
         "bingroup": "x",
         "hovertemplate": "x=%{x}<br>count=%{y}<extra></extra>",
         "legendgroup": "",
         "marker": {
          "color": "#636efa"
         },
         "name": "",
         "offsetgroup": "",
         "orientation": "v",
         "showlegend": false,
         "type": "histogram",
         "x": [
          775.53687,
          775.59656,
          775.5715,
          775.6038,
          775.58503,
          775.5507,
          775.60908,
          775.5272,
          775.59668,
          775.5856200000002,
          775.5627900000002,
          775.5547,
          775.6014299999998,
          775.59116,
          775.53948,
          775.5819299999998,
          775.54388,
          775.54068,
          775.5815299999998,
          775.58209,
          775.56235,
          775.62223,
          775.57898,
          775.5823,
          775.58514,
          775.59618,
          775.58298,
          775.59318,
          775.57434,
          775.60545,
          775.5744,
          775.55323,
          775.56525,
          775.61474,
          775.53499,
          775.5946299999998,
          775.62151,
          775.5917599999998,
          775.56908,
          775.5758400000002,
          775.55592,
          775.61942,
          775.60689,
          775.5650099999998,
          775.60566,
          775.56029,
          775.5543200000002,
          775.55305,
          775.62432,
          775.59668,
          775.55939,
          775.59158,
          775.55938,
          775.57921,
          775.6154799999998,
          775.5848,
          775.5889999999999,
          775.5932700000002,
          775.6415900000002,
          775.65031,
          775.58688,
          775.5140299999998,
          775.56498,
          775.62921,
          775.59712,
          774.21293,
          773.98313,
          774.03298,
          774.01941,
          774.0116,
          773.96362,
          774.0634299999998,
          773.99064,
          773.98218,
          773.99332,
          774.01458,
          774.04164,
          773.99958,
          773.99866,
          774.0027299999998,
          773.97392,
          773.98105,
          773.98403,
          773.95687,
          774.05022,
          773.97686,
          773.97707,
          773.95348,
          774.01413,
          773.96797,
          774.00604,
          774.01332,
          773.96786,
          774.0172200000002,
          774.01999,
          774.03378,
          773.9469,
          774.01819,
          774.00383,
          773.97331,
          774.02687,
          774.03029,
          773.9771099999998,
          773.99738,
          774.02276,
          774.03043,
          774.01868,
          774.02489,
          773.9826400000002,
          774.04087,
          773.98281,
          774.02153,
          773.98047,
          774.07214,
          774.02324,
          773.99833,
          774.0016400000002,
          773.98845,
          773.9857900000002,
          773.99383,
          773.9855299999998,
          773.98311,
          774.01546,
          774.00692,
          773.95987,
          774.00214,
          773.96982,
          774.0134,
          773.9884900000002,
          774.0141,
          773.9796200000002,
          773.99072,
          773.9993,
          774.0042900000002,
          774.02584,
          774.00068,
          774.01218,
          773.99241,
          774.0203799999998,
          774.02134,
          774.0070599999998,
          774.03991,
          773.97615,
          774.00618,
          774.02219,
          774.00847,
          773.98464,
          773.9888,
          773.97353,
          774.00702,
          773.95705,
          773.97198,
          774.00804,
          774.02002,
          774.01044,
          773.97675,
          774.00613,
          774.03588,
          774.0173900000002,
          773.99888,
          774.02978,
          773.96778,
          773.9893099999998,
          773.99587,
          773.99419,
          774.02203,
          773.9954700000002,
          774.0173900000002,
          774.00316,
          773.95241,
          773.9865900000002,
          773.99243,
          774.0126799999998,
          774.0158299999998,
          773.9989999999999,
          773.95308,
          773.99085,
          774.0524,
          774.0251900000002,
          773.99621,
          774.01988,
          774.00981,
          773.98499,
          774.02002,
          773.98863,
          774.03004,
          773.98645,
          773.96768,
          773.99414,
          773.99586,
          773.982,
          773.9802900000002,
          774.05016,
          774.0083900000002,
          774.01626,
          774.01501,
          774.03775,
          774.0201099999998,
          773.97978,
          773.9856900000002,
          773.97654,
          774.0021,
          774.00623,
          774.02866,
          773.9791799999998,
          773.96993,
          774.0229,
          774.00607,
          774.00755,
          773.96797,
          774.04695,
          774.01824,
          773.96643,
          773.96503,
          774.06524,
          774.00022,
          773.95104,
          774.0159,
          773.9662400000002,
          774.0165400000002,
          773.99449,
          773.96443,
          773.98798,
          774.03936,
          774.00075,
          774.0086,
          774.01125,
          774.02261,
          773.99555,
          773.98948,
          774.06788,
          774.0024099999998,
          773.95628,
          774.0144799999998,
          773.99378,
          774.00933,
          773.97153,
          774.01073,
          774.05143,
          773.96895,
          774.02783,
          774.00288,
          774.01463,
          773.99178,
          774.04479,
          774.05747,
          774.0024599999998,
          774.00724,
          773.96206,
          773.99923,
          773.95843,
          774.03155,
          774.0025099999998,
          774.01622,
          774.04422,
          774.02592,
          773.9997099999998,
          774.01148,
          773.98339,
          773.9889400000002,
          774.0230700000002,
          773.97504,
          773.9773799999998,
          773.97803,
          774.01557,
          773.9800799999998,
          774.01823,
          773.96093,
          774.04218,
          773.97727,
          774.0049,
          773.98011,
          773.9775099999998,
          774.01571,
          773.9884599999998,
          773.9841299999998,
          773.99693,
          774.05979,
          774.0119900000002,
          773.9723299999998,
          774.0006099999998,
          774.0648,
          774.06865,
          774.00425,
          773.97208,
          773.96911,
          773.99483,
          774.03145,
          773.95751,
          774.03053,
          774.02825,
          773.99973,
          774.0169400000002,
          773.9782,
          774.01962,
          773.9690099999998,
          774.03155,
          774.01801,
          774.00039,
          774.00261,
          774.00842,
          773.97535,
          774.03558,
          773.9875599999998,
          773.99834,
          773.97063,
          773.99793,
          774.0147,
          773.99757,
          774.02662,
          773.9969,
          774.00914,
          773.98234,
          773.99039,
          774.0094799999998,
          773.98648,
          774.0099799999998,
          773.96543,
          774.02896,
          773.98684,
          774.01346,
          774.02915,
          773.95492,
          774.01435,
          774.02163,
          773.95492,
          773.93646,
          774.01773,
          773.97974,
          774.01435,
          773.98289,
          773.9768799999998,
          774.01035,
          773.98451,
          773.99237,
          774.01756,
          773.9956,
          773.99087,
          774.03633,
          774.00127,
          774.03631,
          774.02033,
          773.9655799999998,
          773.97998,
          774.02663,
          773.9909200000002,
          774.00445,
          774.03728,
          774.00059,
          773.96128,
          774.0395599999998,
          773.99552,
          774.04145,
          774.01758,
          773.98543,
          774.01792,
          774.00267,
          773.99369,
          774.01553,
          773.99449,
          774.03401,
          773.94735,
          774.01082,
          773.97288,
          773.9810200000002,
          774.02162,
          774.02545,
          774.0074900000002,
          773.99135,
          774.03402,
          774.03981,
          774.0022299999998,
          773.98072,
          773.9885400000002,
          773.97326,
          773.96059,
          773.97203,
          774.0369099999998,
          773.9997400000002,
          773.98924,
          773.9984900000002,
          774.0292400000002,
          773.96473,
          773.98114,
          773.99059,
          774.04343,
          774.05408,
          773.98087,
          774.01262,
          773.9628799999998,
          773.97465,
          773.99468,
          774.01742,
          774.01003,
          774.01638,
          773.96935,
          773.97232,
          774.02257,
          774.00593,
          774.01208,
          774.03174,
          774.01581,
          773.9773299999998,
          774.01008,
          774.0287,
          774.00873,
          773.99058,
          774.02824,
          774.06154,
          774.0360599999998,
          774.0147900000002,
          774.00058,
          773.99838,
          774.05123,
          773.98978,
          773.96018,
          774.03728,
          773.9852400000002,
          773.99723,
          773.98708,
          774.01688,
          774.01508,
          773.9896200000002,
          774.0122299999998,
          774.00101,
          774.09035,
          773.98467,
          773.94565,
          773.95723,
          773.99878,
          774.01952,
          774.02859,
          773.95804,
          773.98452,
          773.99287,
          774.00152,
          774.0110599999998,
          773.99462,
          773.99268,
          773.92705,
          774.05818,
          774.00911,
          773.98353,
          774.00902,
          774.00635,
          774.01437,
          773.9760200000002,
          774.05115,
          774.01558,
          773.9954,
          774.0120099999998,
          773.9218,
          774.03072,
          774.06543,
          773.9895799999998,
          774.04261,
          773.99501,
          774.03269,
          774.0169400000002,
          774.03568,
          773.96644,
          774.03027,
          773.98485,
          773.9911099999998,
          774.01964,
          773.94948,
          773.98876,
          773.97995,
          774.00685,
          773.98997,
          774.00784,
          774.01499,
          774.00748,
          774.01719,
          773.96757,
          774.02495,
          773.97382,
          773.99043,
          774.00812,
          773.97996,
          773.99572,
          773.94082,
          773.9941299999998,
          774.01895,
          774.00917,
          774.00378,
          773.97956,
          773.9440099999998,
          773.96548,
          773.9983599999998,
          773.96898,
          773.95998,
          773.97302,
          773.98721,
          774.00217,
          774.02985,
          773.99612,
          773.97413,
          774.02415,
          773.99199,
          773.98208,
          773.99466,
          774.01846,
          773.98527,
          774.03467,
          773.97247,
          773.99189,
          773.9933,
          774.01343,
          774.0108799999998,
          774.01661,
          773.99755,
          774.00811,
          774.01838,
          773.97177,
          773.98401,
          773.99583,
          773.9872799999998,
          774.02157,
          773.96365,
          774.00777,
          774.0256099999998,
          774.0405599999998,
          774.01225,
          774.0160900000002,
          773.96228,
          773.99014,
          774.01211,
          774.03098,
          774.00413,
          773.97415,
          774.06205,
          773.98423,
          774.02306,
          773.98518,
          773.98953,
          774.02908,
          774.02215,
          773.98403,
          774.01129,
          773.98825,
          773.99517,
          773.9993400000002,
          774.0092,
          774.03356,
          774.00143,
          774.02811,
          774.01638,
          774.02207,
          773.99018,
          774.04085,
          774.02283,
          774.02785,
          774.01293,
          774.00098,
          774.0240299999998,
          774.00874,
          773.98227,
          773.99888,
          773.98806,
          774.0523,
          774.01638,
          774.00986,
          774.01661,
          773.9943,
          773.9905200000002,
          774.04367,
          774.04075,
          774.01375,
          774.0372,
          774.0099799999998,
          774.00004,
          773.97051,
          774.02182,
          774.05153,
          774.03069,
          774.0305400000002,
          773.98514,
          774.0395599999998,
          773.99965,
          773.9999799999998,
          774.01602,
          774.03322,
          773.99415,
          774.0127,
          774.02743,
          774.0027299999998,
          773.96857,
          774.05989,
          774.03358,
          773.98085,
          773.98652,
          774.04388,
          773.99418,
          773.9824,
          774.00319,
          773.97274,
          774.00247,
          773.9886,
          773.95016,
          773.97296,
          773.96074,
          773.99725,
          773.9594,
          773.99663,
          774.0026,
          774.03638,
          773.9968700000002,
          774.03108,
          773.9601,
          774.05299,
          773.97408,
          774.00375,
          774.00685,
          773.9603099999998,
          773.97588,
          774.00473,
          773.9266700000002,
          774.0042,
          774.04069,
          774.00961,
          773.98148,
          774.04476,
          774.00197,
          774.01198,
          774.00351,
          774.0145,
          773.9821400000002,
          773.99328,
          774.00915,
          773.9772,
          773.98883,
          774.02667,
          773.97681,
          774.03791,
          774.0182900000002,
          773.98541,
          774.0078599999998,
          774.01804,
          773.9986,
          773.96215,
          774.00885,
          773.99883,
          774.02068,
          773.9864299999998,
          774.01823,
          774.02034,
          773.9793099999998,
          774.00008,
          773.98933,
          773.97637,
          773.99307,
          774.00938,
          774.04592,
          774.01658,
          774.00404,
          774.01748,
          774.01828,
          774.03043,
          774.03291,
          773.97888,
          774.03017,
          774.00775,
          773.9904700000002,
          774.02574,
          773.9825099999998,
          774.03268,
          774.02175,
          774.0321,
          774.0075,
          773.95763,
          774.00461,
          774.01669,
          773.9698099999998,
          773.961,
          773.961,
          773.961,
          773.961,
          773.961,
          773.961,
          773.961,
          773.961,
          773.961,
          773.961,
          773.961,
          773.961,
          773.961,
          773.961,
          773.961,
          773.961,
          773.961,
          773.961,
          773.961,
          773.961,
          773.961,
          773.961,
          773.961,
          773.961,
          773.961,
          773.961,
          773.961,
          773.961,
          773.961,
          773.961,
          773.961,
          773.961,
          773.961,
          773.961,
          773.961,
          773.961,
          773.961,
          773.961,
          773.961,
          773.961,
          773.961,
          773.961,
          773.961,
          773.961,
          773.961
         ],
         "xaxis": "x",
         "yaxis": "y"
        }
       ],
       "layout": {
        "barmode": "relative",
        "legend": {
         "tracegroupgap": 0
        },
        "margin": {
         "t": 60
        },
        "template": {
         "data": {
          "bar": [
           {
            "error_x": {
             "color": "#2a3f5f"
            },
            "error_y": {
             "color": "#2a3f5f"
            },
            "marker": {
             "line": {
              "color": "#E5ECF6",
              "width": 0.5
             }
            },
            "type": "bar"
           }
          ],
          "barpolar": [
           {
            "marker": {
             "line": {
              "color": "#E5ECF6",
              "width": 0.5
             }
            },
            "type": "barpolar"
           }
          ],
          "carpet": [
           {
            "aaxis": {
             "endlinecolor": "#2a3f5f",
             "gridcolor": "white",
             "linecolor": "white",
             "minorgridcolor": "white",
             "startlinecolor": "#2a3f5f"
            },
            "baxis": {
             "endlinecolor": "#2a3f5f",
             "gridcolor": "white",
             "linecolor": "white",
             "minorgridcolor": "white",
             "startlinecolor": "#2a3f5f"
            },
            "type": "carpet"
           }
          ],
          "choropleth": [
           {
            "colorbar": {
             "outlinewidth": 0,
             "ticks": ""
            },
            "type": "choropleth"
           }
          ],
          "contour": [
           {
            "colorbar": {
             "outlinewidth": 0,
             "ticks": ""
            },
            "colorscale": [
             [
              0,
              "#0d0887"
             ],
             [
              0.1111111111111111,
              "#46039f"
             ],
             [
              0.2222222222222222,
              "#7201a8"
             ],
             [
              0.3333333333333333,
              "#9c179e"
             ],
             [
              0.4444444444444444,
              "#bd3786"
             ],
             [
              0.5555555555555556,
              "#d8576b"
             ],
             [
              0.6666666666666666,
              "#ed7953"
             ],
             [
              0.7777777777777778,
              "#fb9f3a"
             ],
             [
              0.8888888888888888,
              "#fdca26"
             ],
             [
              1,
              "#f0f921"
             ]
            ],
            "type": "contour"
           }
          ],
          "contourcarpet": [
           {
            "colorbar": {
             "outlinewidth": 0,
             "ticks": ""
            },
            "type": "contourcarpet"
           }
          ],
          "heatmap": [
           {
            "colorbar": {
             "outlinewidth": 0,
             "ticks": ""
            },
            "colorscale": [
             [
              0,
              "#0d0887"
             ],
             [
              0.1111111111111111,
              "#46039f"
             ],
             [
              0.2222222222222222,
              "#7201a8"
             ],
             [
              0.3333333333333333,
              "#9c179e"
             ],
             [
              0.4444444444444444,
              "#bd3786"
             ],
             [
              0.5555555555555556,
              "#d8576b"
             ],
             [
              0.6666666666666666,
              "#ed7953"
             ],
             [
              0.7777777777777778,
              "#fb9f3a"
             ],
             [
              0.8888888888888888,
              "#fdca26"
             ],
             [
              1,
              "#f0f921"
             ]
            ],
            "type": "heatmap"
           }
          ],
          "heatmapgl": [
           {
            "colorbar": {
             "outlinewidth": 0,
             "ticks": ""
            },
            "colorscale": [
             [
              0,
              "#0d0887"
             ],
             [
              0.1111111111111111,
              "#46039f"
             ],
             [
              0.2222222222222222,
              "#7201a8"
             ],
             [
              0.3333333333333333,
              "#9c179e"
             ],
             [
              0.4444444444444444,
              "#bd3786"
             ],
             [
              0.5555555555555556,
              "#d8576b"
             ],
             [
              0.6666666666666666,
              "#ed7953"
             ],
             [
              0.7777777777777778,
              "#fb9f3a"
             ],
             [
              0.8888888888888888,
              "#fdca26"
             ],
             [
              1,
              "#f0f921"
             ]
            ],
            "type": "heatmapgl"
           }
          ],
          "histogram": [
           {
            "marker": {
             "colorbar": {
              "outlinewidth": 0,
              "ticks": ""
             }
            },
            "type": "histogram"
           }
          ],
          "histogram2d": [
           {
            "colorbar": {
             "outlinewidth": 0,
             "ticks": ""
            },
            "colorscale": [
             [
              0,
              "#0d0887"
             ],
             [
              0.1111111111111111,
              "#46039f"
             ],
             [
              0.2222222222222222,
              "#7201a8"
             ],
             [
              0.3333333333333333,
              "#9c179e"
             ],
             [
              0.4444444444444444,
              "#bd3786"
             ],
             [
              0.5555555555555556,
              "#d8576b"
             ],
             [
              0.6666666666666666,
              "#ed7953"
             ],
             [
              0.7777777777777778,
              "#fb9f3a"
             ],
             [
              0.8888888888888888,
              "#fdca26"
             ],
             [
              1,
              "#f0f921"
             ]
            ],
            "type": "histogram2d"
           }
          ],
          "histogram2dcontour": [
           {
            "colorbar": {
             "outlinewidth": 0,
             "ticks": ""
            },
            "colorscale": [
             [
              0,
              "#0d0887"
             ],
             [
              0.1111111111111111,
              "#46039f"
             ],
             [
              0.2222222222222222,
              "#7201a8"
             ],
             [
              0.3333333333333333,
              "#9c179e"
             ],
             [
              0.4444444444444444,
              "#bd3786"
             ],
             [
              0.5555555555555556,
              "#d8576b"
             ],
             [
              0.6666666666666666,
              "#ed7953"
             ],
             [
              0.7777777777777778,
              "#fb9f3a"
             ],
             [
              0.8888888888888888,
              "#fdca26"
             ],
             [
              1,
              "#f0f921"
             ]
            ],
            "type": "histogram2dcontour"
           }
          ],
          "mesh3d": [
           {
            "colorbar": {
             "outlinewidth": 0,
             "ticks": ""
            },
            "type": "mesh3d"
           }
          ],
          "parcoords": [
           {
            "line": {
             "colorbar": {
              "outlinewidth": 0,
              "ticks": ""
             }
            },
            "type": "parcoords"
           }
          ],
          "pie": [
           {
            "automargin": true,
            "type": "pie"
           }
          ],
          "scatter": [
           {
            "marker": {
             "colorbar": {
              "outlinewidth": 0,
              "ticks": ""
             }
            },
            "type": "scatter"
           }
          ],
          "scatter3d": [
           {
            "line": {
             "colorbar": {
              "outlinewidth": 0,
              "ticks": ""
             }
            },
            "marker": {
             "colorbar": {
              "outlinewidth": 0,
              "ticks": ""
             }
            },
            "type": "scatter3d"
           }
          ],
          "scattercarpet": [
           {
            "marker": {
             "colorbar": {
              "outlinewidth": 0,
              "ticks": ""
             }
            },
            "type": "scattercarpet"
           }
          ],
          "scattergeo": [
           {
            "marker": {
             "colorbar": {
              "outlinewidth": 0,
              "ticks": ""
             }
            },
            "type": "scattergeo"
           }
          ],
          "scattergl": [
           {
            "marker": {
             "colorbar": {
              "outlinewidth": 0,
              "ticks": ""
             }
            },
            "type": "scattergl"
           }
          ],
          "scattermapbox": [
           {
            "marker": {
             "colorbar": {
              "outlinewidth": 0,
              "ticks": ""
             }
            },
            "type": "scattermapbox"
           }
          ],
          "scatterpolar": [
           {
            "marker": {
             "colorbar": {
              "outlinewidth": 0,
              "ticks": ""
             }
            },
            "type": "scatterpolar"
           }
          ],
          "scatterpolargl": [
           {
            "marker": {
             "colorbar": {
              "outlinewidth": 0,
              "ticks": ""
             }
            },
            "type": "scatterpolargl"
           }
          ],
          "scatterternary": [
           {
            "marker": {
             "colorbar": {
              "outlinewidth": 0,
              "ticks": ""
             }
            },
            "type": "scatterternary"
           }
          ],
          "surface": [
           {
            "colorbar": {
             "outlinewidth": 0,
             "ticks": ""
            },
            "colorscale": [
             [
              0,
              "#0d0887"
             ],
             [
              0.1111111111111111,
              "#46039f"
             ],
             [
              0.2222222222222222,
              "#7201a8"
             ],
             [
              0.3333333333333333,
              "#9c179e"
             ],
             [
              0.4444444444444444,
              "#bd3786"
             ],
             [
              0.5555555555555556,
              "#d8576b"
             ],
             [
              0.6666666666666666,
              "#ed7953"
             ],
             [
              0.7777777777777778,
              "#fb9f3a"
             ],
             [
              0.8888888888888888,
              "#fdca26"
             ],
             [
              1,
              "#f0f921"
             ]
            ],
            "type": "surface"
           }
          ],
          "table": [
           {
            "cells": {
             "fill": {
              "color": "#EBF0F8"
             },
             "line": {
              "color": "white"
             }
            },
            "header": {
             "fill": {
              "color": "#C8D4E3"
             },
             "line": {
              "color": "white"
             }
            },
            "type": "table"
           }
          ]
         },
         "layout": {
          "annotationdefaults": {
           "arrowcolor": "#2a3f5f",
           "arrowhead": 0,
           "arrowwidth": 1
          },
          "autotypenumbers": "strict",
          "coloraxis": {
           "colorbar": {
            "outlinewidth": 0,
            "ticks": ""
           }
          },
          "colorscale": {
           "diverging": [
            [
             0,
             "#8e0152"
            ],
            [
             0.1,
             "#c51b7d"
            ],
            [
             0.2,
             "#de77ae"
            ],
            [
             0.3,
             "#f1b6da"
            ],
            [
             0.4,
             "#fde0ef"
            ],
            [
             0.5,
             "#f7f7f7"
            ],
            [
             0.6,
             "#e6f5d0"
            ],
            [
             0.7,
             "#b8e186"
            ],
            [
             0.8,
             "#7fbc41"
            ],
            [
             0.9,
             "#4d9221"
            ],
            [
             1,
             "#276419"
            ]
           ],
           "sequential": [
            [
             0,
             "#0d0887"
            ],
            [
             0.1111111111111111,
             "#46039f"
            ],
            [
             0.2222222222222222,
             "#7201a8"
            ],
            [
             0.3333333333333333,
             "#9c179e"
            ],
            [
             0.4444444444444444,
             "#bd3786"
            ],
            [
             0.5555555555555556,
             "#d8576b"
            ],
            [
             0.6666666666666666,
             "#ed7953"
            ],
            [
             0.7777777777777778,
             "#fb9f3a"
            ],
            [
             0.8888888888888888,
             "#fdca26"
            ],
            [
             1,
             "#f0f921"
            ]
           ],
           "sequentialminus": [
            [
             0,
             "#0d0887"
            ],
            [
             0.1111111111111111,
             "#46039f"
            ],
            [
             0.2222222222222222,
             "#7201a8"
            ],
            [
             0.3333333333333333,
             "#9c179e"
            ],
            [
             0.4444444444444444,
             "#bd3786"
            ],
            [
             0.5555555555555556,
             "#d8576b"
            ],
            [
             0.6666666666666666,
             "#ed7953"
            ],
            [
             0.7777777777777778,
             "#fb9f3a"
            ],
            [
             0.8888888888888888,
             "#fdca26"
            ],
            [
             1,
             "#f0f921"
            ]
           ]
          },
          "colorway": [
           "#636efa",
           "#EF553B",
           "#00cc96",
           "#ab63fa",
           "#FFA15A",
           "#19d3f3",
           "#FF6692",
           "#B6E880",
           "#FF97FF",
           "#FECB52"
          ],
          "font": {
           "color": "#2a3f5f"
          },
          "geo": {
           "bgcolor": "white",
           "lakecolor": "white",
           "landcolor": "#E5ECF6",
           "showlakes": true,
           "showland": true,
           "subunitcolor": "white"
          },
          "hoverlabel": {
           "align": "left"
          },
          "hovermode": "closest",
          "mapbox": {
           "style": "light"
          },
          "paper_bgcolor": "white",
          "plot_bgcolor": "#E5ECF6",
          "polar": {
           "angularaxis": {
            "gridcolor": "white",
            "linecolor": "white",
            "ticks": ""
           },
           "bgcolor": "#E5ECF6",
           "radialaxis": {
            "gridcolor": "white",
            "linecolor": "white",
            "ticks": ""
           }
          },
          "scene": {
           "xaxis": {
            "backgroundcolor": "#E5ECF6",
            "gridcolor": "white",
            "gridwidth": 2,
            "linecolor": "white",
            "showbackground": true,
            "ticks": "",
            "zerolinecolor": "white"
           },
           "yaxis": {
            "backgroundcolor": "#E5ECF6",
            "gridcolor": "white",
            "gridwidth": 2,
            "linecolor": "white",
            "showbackground": true,
            "ticks": "",
            "zerolinecolor": "white"
           },
           "zaxis": {
            "backgroundcolor": "#E5ECF6",
            "gridcolor": "white",
            "gridwidth": 2,
            "linecolor": "white",
            "showbackground": true,
            "ticks": "",
            "zerolinecolor": "white"
           }
          },
          "shapedefaults": {
           "line": {
            "color": "#2a3f5f"
           }
          },
          "ternary": {
           "aaxis": {
            "gridcolor": "white",
            "linecolor": "white",
            "ticks": ""
           },
           "baxis": {
            "gridcolor": "white",
            "linecolor": "white",
            "ticks": ""
           },
           "bgcolor": "#E5ECF6",
           "caxis": {
            "gridcolor": "white",
            "linecolor": "white",
            "ticks": ""
           }
          },
          "title": {
           "x": 0.05
          },
          "xaxis": {
           "automargin": true,
           "gridcolor": "white",
           "linecolor": "white",
           "ticks": "",
           "title": {
            "standoff": 15
           },
           "zerolinecolor": "white",
           "zerolinewidth": 2
          },
          "yaxis": {
           "automargin": true,
           "gridcolor": "white",
           "linecolor": "white",
           "ticks": "",
           "title": {
            "standoff": 15
           },
           "zerolinecolor": "white",
           "zerolinewidth": 2
          }
         }
        },
        "xaxis": {
         "anchor": "y",
         "domain": [
          0,
          1
         ],
         "title": {
          "text": "x"
         }
        },
        "yaxis": {
         "anchor": "x",
         "domain": [
          0,
          1
         ],
         "title": {
          "text": "count"
         }
        }
       }
      },
      "text/html": [
       "<div>                            <div id=\"e0861e70-a92e-4b45-baea-746ac8b14d44\" class=\"plotly-graph-div\" style=\"height:525px; width:100%;\"></div>            <script type=\"text/javascript\">                require([\"plotly\"], function(Plotly) {                    window.PLOTLYENV=window.PLOTLYENV || {};                                    if (document.getElementById(\"e0861e70-a92e-4b45-baea-746ac8b14d44\")) {                    Plotly.newPlot(                        \"e0861e70-a92e-4b45-baea-746ac8b14d44\",                        [{\"alignmentgroup\": \"True\", \"bingroup\": \"x\", \"hovertemplate\": \"x=%{x}<br>count=%{y}<extra></extra>\", \"legendgroup\": \"\", \"marker\": {\"color\": \"#636efa\"}, \"name\": \"\", \"offsetgroup\": \"\", \"orientation\": \"v\", \"showlegend\": false, \"type\": \"histogram\", \"x\": [775.53687, 775.59656, 775.5715, 775.6038, 775.58503, 775.5507, 775.60908, 775.5272, 775.59668, 775.5856200000002, 775.5627900000002, 775.5547, 775.6014299999998, 775.59116, 775.53948, 775.5819299999998, 775.54388, 775.54068, 775.5815299999998, 775.58209, 775.56235, 775.62223, 775.57898, 775.5823, 775.58514, 775.59618, 775.58298, 775.59318, 775.57434, 775.60545, 775.5744, 775.55323, 775.56525, 775.61474, 775.53499, 775.5946299999998, 775.62151, 775.5917599999998, 775.56908, 775.5758400000002, 775.55592, 775.61942, 775.60689, 775.5650099999998, 775.60566, 775.56029, 775.5543200000002, 775.55305, 775.62432, 775.59668, 775.55939, 775.59158, 775.55938, 775.57921, 775.6154799999998, 775.5848, 775.5889999999999, 775.5932700000002, 775.6415900000002, 775.65031, 775.58688, 775.5140299999998, 775.56498, 775.62921, 775.59712, 774.21293, 773.98313, 774.03298, 774.01941, 774.0116, 773.96362, 774.0634299999998, 773.99064, 773.98218, 773.99332, 774.01458, 774.04164, 773.99958, 773.99866, 774.0027299999998, 773.97392, 773.98105, 773.98403, 773.95687, 774.05022, 773.97686, 773.97707, 773.95348, 774.01413, 773.96797, 774.00604, 774.01332, 773.96786, 774.0172200000002, 774.01999, 774.03378, 773.9469, 774.01819, 774.00383, 773.97331, 774.02687, 774.03029, 773.9771099999998, 773.99738, 774.02276, 774.03043, 774.01868, 774.02489, 773.9826400000002, 774.04087, 773.98281, 774.02153, 773.98047, 774.07214, 774.02324, 773.99833, 774.0016400000002, 773.98845, 773.9857900000002, 773.99383, 773.9855299999998, 773.98311, 774.01546, 774.00692, 773.95987, 774.00214, 773.96982, 774.0134, 773.9884900000002, 774.0141, 773.9796200000002, 773.99072, 773.9993, 774.0042900000002, 774.02584, 774.00068, 774.01218, 773.99241, 774.0203799999998, 774.02134, 774.0070599999998, 774.03991, 773.97615, 774.00618, 774.02219, 774.00847, 773.98464, 773.9888, 773.97353, 774.00702, 773.95705, 773.97198, 774.00804, 774.02002, 774.01044, 773.97675, 774.00613, 774.03588, 774.0173900000002, 773.99888, 774.02978, 773.96778, 773.9893099999998, 773.99587, 773.99419, 774.02203, 773.9954700000002, 774.0173900000002, 774.00316, 773.95241, 773.9865900000002, 773.99243, 774.0126799999998, 774.0158299999998, 773.9989999999999, 773.95308, 773.99085, 774.0524, 774.0251900000002, 773.99621, 774.01988, 774.00981, 773.98499, 774.02002, 773.98863, 774.03004, 773.98645, 773.96768, 773.99414, 773.99586, 773.982, 773.9802900000002, 774.05016, 774.0083900000002, 774.01626, 774.01501, 774.03775, 774.0201099999998, 773.97978, 773.9856900000002, 773.97654, 774.0021, 774.00623, 774.02866, 773.9791799999998, 773.96993, 774.0229, 774.00607, 774.00755, 773.96797, 774.04695, 774.01824, 773.96643, 773.96503, 774.06524, 774.00022, 773.95104, 774.0159, 773.9662400000002, 774.0165400000002, 773.99449, 773.96443, 773.98798, 774.03936, 774.00075, 774.0086, 774.01125, 774.02261, 773.99555, 773.98948, 774.06788, 774.0024099999998, 773.95628, 774.0144799999998, 773.99378, 774.00933, 773.97153, 774.01073, 774.05143, 773.96895, 774.02783, 774.00288, 774.01463, 773.99178, 774.04479, 774.05747, 774.0024599999998, 774.00724, 773.96206, 773.99923, 773.95843, 774.03155, 774.0025099999998, 774.01622, 774.04422, 774.02592, 773.9997099999998, 774.01148, 773.98339, 773.9889400000002, 774.0230700000002, 773.97504, 773.9773799999998, 773.97803, 774.01557, 773.9800799999998, 774.01823, 773.96093, 774.04218, 773.97727, 774.0049, 773.98011, 773.9775099999998, 774.01571, 773.9884599999998, 773.9841299999998, 773.99693, 774.05979, 774.0119900000002, 773.9723299999998, 774.0006099999998, 774.0648, 774.06865, 774.00425, 773.97208, 773.96911, 773.99483, 774.03145, 773.95751, 774.03053, 774.02825, 773.99973, 774.0169400000002, 773.9782, 774.01962, 773.9690099999998, 774.03155, 774.01801, 774.00039, 774.00261, 774.00842, 773.97535, 774.03558, 773.9875599999998, 773.99834, 773.97063, 773.99793, 774.0147, 773.99757, 774.02662, 773.9969, 774.00914, 773.98234, 773.99039, 774.0094799999998, 773.98648, 774.0099799999998, 773.96543, 774.02896, 773.98684, 774.01346, 774.02915, 773.95492, 774.01435, 774.02163, 773.95492, 773.93646, 774.01773, 773.97974, 774.01435, 773.98289, 773.9768799999998, 774.01035, 773.98451, 773.99237, 774.01756, 773.9956, 773.99087, 774.03633, 774.00127, 774.03631, 774.02033, 773.9655799999998, 773.97998, 774.02663, 773.9909200000002, 774.00445, 774.03728, 774.00059, 773.96128, 774.0395599999998, 773.99552, 774.04145, 774.01758, 773.98543, 774.01792, 774.00267, 773.99369, 774.01553, 773.99449, 774.03401, 773.94735, 774.01082, 773.97288, 773.9810200000002, 774.02162, 774.02545, 774.0074900000002, 773.99135, 774.03402, 774.03981, 774.0022299999998, 773.98072, 773.9885400000002, 773.97326, 773.96059, 773.97203, 774.0369099999998, 773.9997400000002, 773.98924, 773.9984900000002, 774.0292400000002, 773.96473, 773.98114, 773.99059, 774.04343, 774.05408, 773.98087, 774.01262, 773.9628799999998, 773.97465, 773.99468, 774.01742, 774.01003, 774.01638, 773.96935, 773.97232, 774.02257, 774.00593, 774.01208, 774.03174, 774.01581, 773.9773299999998, 774.01008, 774.0287, 774.00873, 773.99058, 774.02824, 774.06154, 774.0360599999998, 774.0147900000002, 774.00058, 773.99838, 774.05123, 773.98978, 773.96018, 774.03728, 773.9852400000002, 773.99723, 773.98708, 774.01688, 774.01508, 773.9896200000002, 774.0122299999998, 774.00101, 774.09035, 773.98467, 773.94565, 773.95723, 773.99878, 774.01952, 774.02859, 773.95804, 773.98452, 773.99287, 774.00152, 774.0110599999998, 773.99462, 773.99268, 773.92705, 774.05818, 774.00911, 773.98353, 774.00902, 774.00635, 774.01437, 773.9760200000002, 774.05115, 774.01558, 773.9954, 774.0120099999998, 773.9218, 774.03072, 774.06543, 773.9895799999998, 774.04261, 773.99501, 774.03269, 774.0169400000002, 774.03568, 773.96644, 774.03027, 773.98485, 773.9911099999998, 774.01964, 773.94948, 773.98876, 773.97995, 774.00685, 773.98997, 774.00784, 774.01499, 774.00748, 774.01719, 773.96757, 774.02495, 773.97382, 773.99043, 774.00812, 773.97996, 773.99572, 773.94082, 773.9941299999998, 774.01895, 774.00917, 774.00378, 773.97956, 773.9440099999998, 773.96548, 773.9983599999998, 773.96898, 773.95998, 773.97302, 773.98721, 774.00217, 774.02985, 773.99612, 773.97413, 774.02415, 773.99199, 773.98208, 773.99466, 774.01846, 773.98527, 774.03467, 773.97247, 773.99189, 773.9933, 774.01343, 774.0108799999998, 774.01661, 773.99755, 774.00811, 774.01838, 773.97177, 773.98401, 773.99583, 773.9872799999998, 774.02157, 773.96365, 774.00777, 774.0256099999998, 774.0405599999998, 774.01225, 774.0160900000002, 773.96228, 773.99014, 774.01211, 774.03098, 774.00413, 773.97415, 774.06205, 773.98423, 774.02306, 773.98518, 773.98953, 774.02908, 774.02215, 773.98403, 774.01129, 773.98825, 773.99517, 773.9993400000002, 774.0092, 774.03356, 774.00143, 774.02811, 774.01638, 774.02207, 773.99018, 774.04085, 774.02283, 774.02785, 774.01293, 774.00098, 774.0240299999998, 774.00874, 773.98227, 773.99888, 773.98806, 774.0523, 774.01638, 774.00986, 774.01661, 773.9943, 773.9905200000002, 774.04367, 774.04075, 774.01375, 774.0372, 774.0099799999998, 774.00004, 773.97051, 774.02182, 774.05153, 774.03069, 774.0305400000002, 773.98514, 774.0395599999998, 773.99965, 773.9999799999998, 774.01602, 774.03322, 773.99415, 774.0127, 774.02743, 774.0027299999998, 773.96857, 774.05989, 774.03358, 773.98085, 773.98652, 774.04388, 773.99418, 773.9824, 774.00319, 773.97274, 774.00247, 773.9886, 773.95016, 773.97296, 773.96074, 773.99725, 773.9594, 773.99663, 774.0026, 774.03638, 773.9968700000002, 774.03108, 773.9601, 774.05299, 773.97408, 774.00375, 774.00685, 773.9603099999998, 773.97588, 774.00473, 773.9266700000002, 774.0042, 774.04069, 774.00961, 773.98148, 774.04476, 774.00197, 774.01198, 774.00351, 774.0145, 773.9821400000002, 773.99328, 774.00915, 773.9772, 773.98883, 774.02667, 773.97681, 774.03791, 774.0182900000002, 773.98541, 774.0078599999998, 774.01804, 773.9986, 773.96215, 774.00885, 773.99883, 774.02068, 773.9864299999998, 774.01823, 774.02034, 773.9793099999998, 774.00008, 773.98933, 773.97637, 773.99307, 774.00938, 774.04592, 774.01658, 774.00404, 774.01748, 774.01828, 774.03043, 774.03291, 773.97888, 774.03017, 774.00775, 773.9904700000002, 774.02574, 773.9825099999998, 774.03268, 774.02175, 774.0321, 774.0075, 773.95763, 774.00461, 774.01669, 773.9698099999998, 773.961, 773.961, 773.961, 773.961, 773.961, 773.961, 773.961, 773.961, 773.961, 773.961, 773.961, 773.961, 773.961, 773.961, 773.961, 773.961, 773.961, 773.961, 773.961, 773.961, 773.961, 773.961, 773.961, 773.961, 773.961, 773.961, 773.961, 773.961, 773.961, 773.961, 773.961, 773.961, 773.961, 773.961, 773.961, 773.961, 773.961, 773.961, 773.961, 773.961, 773.961, 773.961, 773.961, 773.961, 773.961], \"xaxis\": \"x\", \"yaxis\": \"y\"}],                        {\"barmode\": \"relative\", \"legend\": {\"tracegroupgap\": 0}, \"margin\": {\"t\": 60}, \"template\": {\"data\": {\"bar\": [{\"error_x\": {\"color\": \"#2a3f5f\"}, \"error_y\": {\"color\": \"#2a3f5f\"}, \"marker\": {\"line\": {\"color\": \"#E5ECF6\", \"width\": 0.5}}, \"type\": \"bar\"}], \"barpolar\": [{\"marker\": {\"line\": {\"color\": \"#E5ECF6\", \"width\": 0.5}}, \"type\": \"barpolar\"}], \"carpet\": [{\"aaxis\": {\"endlinecolor\": \"#2a3f5f\", \"gridcolor\": \"white\", \"linecolor\": \"white\", \"minorgridcolor\": \"white\", \"startlinecolor\": \"#2a3f5f\"}, \"baxis\": {\"endlinecolor\": \"#2a3f5f\", \"gridcolor\": \"white\", \"linecolor\": \"white\", \"minorgridcolor\": \"white\", \"startlinecolor\": \"#2a3f5f\"}, \"type\": \"carpet\"}], \"choropleth\": [{\"colorbar\": {\"outlinewidth\": 0, \"ticks\": \"\"}, \"type\": \"choropleth\"}], \"contour\": [{\"colorbar\": {\"outlinewidth\": 0, \"ticks\": \"\"}, \"colorscale\": [[0.0, \"#0d0887\"], [0.1111111111111111, \"#46039f\"], [0.2222222222222222, \"#7201a8\"], [0.3333333333333333, \"#9c179e\"], [0.4444444444444444, \"#bd3786\"], [0.5555555555555556, \"#d8576b\"], [0.6666666666666666, \"#ed7953\"], [0.7777777777777778, \"#fb9f3a\"], [0.8888888888888888, \"#fdca26\"], [1.0, \"#f0f921\"]], \"type\": \"contour\"}], \"contourcarpet\": [{\"colorbar\": {\"outlinewidth\": 0, \"ticks\": \"\"}, \"type\": \"contourcarpet\"}], \"heatmap\": [{\"colorbar\": {\"outlinewidth\": 0, \"ticks\": \"\"}, \"colorscale\": [[0.0, \"#0d0887\"], [0.1111111111111111, \"#46039f\"], [0.2222222222222222, \"#7201a8\"], [0.3333333333333333, \"#9c179e\"], [0.4444444444444444, \"#bd3786\"], [0.5555555555555556, \"#d8576b\"], [0.6666666666666666, \"#ed7953\"], [0.7777777777777778, \"#fb9f3a\"], [0.8888888888888888, \"#fdca26\"], [1.0, \"#f0f921\"]], \"type\": \"heatmap\"}], \"heatmapgl\": [{\"colorbar\": {\"outlinewidth\": 0, \"ticks\": \"\"}, \"colorscale\": [[0.0, \"#0d0887\"], [0.1111111111111111, \"#46039f\"], [0.2222222222222222, \"#7201a8\"], [0.3333333333333333, \"#9c179e\"], [0.4444444444444444, \"#bd3786\"], [0.5555555555555556, \"#d8576b\"], [0.6666666666666666, \"#ed7953\"], [0.7777777777777778, \"#fb9f3a\"], [0.8888888888888888, \"#fdca26\"], [1.0, \"#f0f921\"]], \"type\": \"heatmapgl\"}], \"histogram\": [{\"marker\": {\"colorbar\": {\"outlinewidth\": 0, \"ticks\": \"\"}}, \"type\": \"histogram\"}], \"histogram2d\": [{\"colorbar\": {\"outlinewidth\": 0, \"ticks\": \"\"}, \"colorscale\": [[0.0, \"#0d0887\"], [0.1111111111111111, \"#46039f\"], [0.2222222222222222, \"#7201a8\"], [0.3333333333333333, \"#9c179e\"], [0.4444444444444444, \"#bd3786\"], [0.5555555555555556, \"#d8576b\"], [0.6666666666666666, \"#ed7953\"], [0.7777777777777778, \"#fb9f3a\"], [0.8888888888888888, \"#fdca26\"], [1.0, \"#f0f921\"]], \"type\": \"histogram2d\"}], \"histogram2dcontour\": [{\"colorbar\": {\"outlinewidth\": 0, \"ticks\": \"\"}, \"colorscale\": [[0.0, \"#0d0887\"], [0.1111111111111111, \"#46039f\"], [0.2222222222222222, \"#7201a8\"], [0.3333333333333333, \"#9c179e\"], [0.4444444444444444, \"#bd3786\"], [0.5555555555555556, \"#d8576b\"], [0.6666666666666666, \"#ed7953\"], [0.7777777777777778, \"#fb9f3a\"], [0.8888888888888888, \"#fdca26\"], [1.0, \"#f0f921\"]], \"type\": \"histogram2dcontour\"}], \"mesh3d\": [{\"colorbar\": {\"outlinewidth\": 0, \"ticks\": \"\"}, \"type\": \"mesh3d\"}], \"parcoords\": [{\"line\": {\"colorbar\": {\"outlinewidth\": 0, \"ticks\": \"\"}}, \"type\": \"parcoords\"}], \"pie\": [{\"automargin\": true, \"type\": \"pie\"}], \"scatter\": [{\"marker\": {\"colorbar\": {\"outlinewidth\": 0, \"ticks\": \"\"}}, \"type\": \"scatter\"}], \"scatter3d\": [{\"line\": {\"colorbar\": {\"outlinewidth\": 0, \"ticks\": \"\"}}, \"marker\": {\"colorbar\": {\"outlinewidth\": 0, \"ticks\": \"\"}}, \"type\": \"scatter3d\"}], \"scattercarpet\": [{\"marker\": {\"colorbar\": {\"outlinewidth\": 0, \"ticks\": \"\"}}, \"type\": \"scattercarpet\"}], \"scattergeo\": [{\"marker\": {\"colorbar\": {\"outlinewidth\": 0, \"ticks\": \"\"}}, \"type\": \"scattergeo\"}], \"scattergl\": [{\"marker\": {\"colorbar\": {\"outlinewidth\": 0, \"ticks\": \"\"}}, \"type\": \"scattergl\"}], \"scattermapbox\": [{\"marker\": {\"colorbar\": {\"outlinewidth\": 0, \"ticks\": \"\"}}, \"type\": \"scattermapbox\"}], \"scatterpolar\": [{\"marker\": {\"colorbar\": {\"outlinewidth\": 0, \"ticks\": \"\"}}, \"type\": \"scatterpolar\"}], \"scatterpolargl\": [{\"marker\": {\"colorbar\": {\"outlinewidth\": 0, \"ticks\": \"\"}}, \"type\": \"scatterpolargl\"}], \"scatterternary\": [{\"marker\": {\"colorbar\": {\"outlinewidth\": 0, \"ticks\": \"\"}}, \"type\": \"scatterternary\"}], \"surface\": [{\"colorbar\": {\"outlinewidth\": 0, \"ticks\": \"\"}, \"colorscale\": [[0.0, \"#0d0887\"], [0.1111111111111111, \"#46039f\"], [0.2222222222222222, \"#7201a8\"], [0.3333333333333333, \"#9c179e\"], [0.4444444444444444, \"#bd3786\"], [0.5555555555555556, \"#d8576b\"], [0.6666666666666666, \"#ed7953\"], [0.7777777777777778, \"#fb9f3a\"], [0.8888888888888888, \"#fdca26\"], [1.0, \"#f0f921\"]], \"type\": \"surface\"}], \"table\": [{\"cells\": {\"fill\": {\"color\": \"#EBF0F8\"}, \"line\": {\"color\": \"white\"}}, \"header\": {\"fill\": {\"color\": \"#C8D4E3\"}, \"line\": {\"color\": \"white\"}}, \"type\": \"table\"}]}, \"layout\": {\"annotationdefaults\": {\"arrowcolor\": \"#2a3f5f\", \"arrowhead\": 0, \"arrowwidth\": 1}, \"autotypenumbers\": \"strict\", \"coloraxis\": {\"colorbar\": {\"outlinewidth\": 0, \"ticks\": \"\"}}, \"colorscale\": {\"diverging\": [[0, \"#8e0152\"], [0.1, \"#c51b7d\"], [0.2, \"#de77ae\"], [0.3, \"#f1b6da\"], [0.4, \"#fde0ef\"], [0.5, \"#f7f7f7\"], [0.6, \"#e6f5d0\"], [0.7, \"#b8e186\"], [0.8, \"#7fbc41\"], [0.9, \"#4d9221\"], [1, \"#276419\"]], \"sequential\": [[0.0, \"#0d0887\"], [0.1111111111111111, \"#46039f\"], [0.2222222222222222, \"#7201a8\"], [0.3333333333333333, \"#9c179e\"], [0.4444444444444444, \"#bd3786\"], [0.5555555555555556, \"#d8576b\"], [0.6666666666666666, \"#ed7953\"], [0.7777777777777778, \"#fb9f3a\"], [0.8888888888888888, \"#fdca26\"], [1.0, \"#f0f921\"]], \"sequentialminus\": [[0.0, \"#0d0887\"], [0.1111111111111111, \"#46039f\"], [0.2222222222222222, \"#7201a8\"], [0.3333333333333333, \"#9c179e\"], [0.4444444444444444, \"#bd3786\"], [0.5555555555555556, \"#d8576b\"], [0.6666666666666666, \"#ed7953\"], [0.7777777777777778, \"#fb9f3a\"], [0.8888888888888888, \"#fdca26\"], [1.0, \"#f0f921\"]]}, \"colorway\": [\"#636efa\", \"#EF553B\", \"#00cc96\", \"#ab63fa\", \"#FFA15A\", \"#19d3f3\", \"#FF6692\", \"#B6E880\", \"#FF97FF\", \"#FECB52\"], \"font\": {\"color\": \"#2a3f5f\"}, \"geo\": {\"bgcolor\": \"white\", \"lakecolor\": \"white\", \"landcolor\": \"#E5ECF6\", \"showlakes\": true, \"showland\": true, \"subunitcolor\": \"white\"}, \"hoverlabel\": {\"align\": \"left\"}, \"hovermode\": \"closest\", \"mapbox\": {\"style\": \"light\"}, \"paper_bgcolor\": \"white\", \"plot_bgcolor\": \"#E5ECF6\", \"polar\": {\"angularaxis\": {\"gridcolor\": \"white\", \"linecolor\": \"white\", \"ticks\": \"\"}, \"bgcolor\": \"#E5ECF6\", \"radialaxis\": {\"gridcolor\": \"white\", \"linecolor\": \"white\", \"ticks\": \"\"}}, \"scene\": {\"xaxis\": {\"backgroundcolor\": \"#E5ECF6\", \"gridcolor\": \"white\", \"gridwidth\": 2, \"linecolor\": \"white\", \"showbackground\": true, \"ticks\": \"\", \"zerolinecolor\": \"white\"}, \"yaxis\": {\"backgroundcolor\": \"#E5ECF6\", \"gridcolor\": \"white\", \"gridwidth\": 2, \"linecolor\": \"white\", \"showbackground\": true, \"ticks\": \"\", \"zerolinecolor\": \"white\"}, \"zaxis\": {\"backgroundcolor\": \"#E5ECF6\", \"gridcolor\": \"white\", \"gridwidth\": 2, \"linecolor\": \"white\", \"showbackground\": true, \"ticks\": \"\", \"zerolinecolor\": \"white\"}}, \"shapedefaults\": {\"line\": {\"color\": \"#2a3f5f\"}}, \"ternary\": {\"aaxis\": {\"gridcolor\": \"white\", \"linecolor\": \"white\", \"ticks\": \"\"}, \"baxis\": {\"gridcolor\": \"white\", \"linecolor\": \"white\", \"ticks\": \"\"}, \"bgcolor\": \"#E5ECF6\", \"caxis\": {\"gridcolor\": \"white\", \"linecolor\": \"white\", \"ticks\": \"\"}}, \"title\": {\"x\": 0.05}, \"xaxis\": {\"automargin\": true, \"gridcolor\": \"white\", \"linecolor\": \"white\", \"ticks\": \"\", \"title\": {\"standoff\": 15}, \"zerolinecolor\": \"white\", \"zerolinewidth\": 2}, \"yaxis\": {\"automargin\": true, \"gridcolor\": \"white\", \"linecolor\": \"white\", \"ticks\": \"\", \"title\": {\"standoff\": 15}, \"zerolinecolor\": \"white\", \"zerolinewidth\": 2}}}, \"xaxis\": {\"anchor\": \"y\", \"domain\": [0.0, 1.0], \"title\": {\"text\": \"x\"}}, \"yaxis\": {\"anchor\": \"x\", \"domain\": [0.0, 1.0], \"title\": {\"text\": \"count\"}}},                        {\"responsive\": true}                    ).then(function(){\n",
       "                            \n",
       "var gd = document.getElementById('e0861e70-a92e-4b45-baea-746ac8b14d44');\n",
       "var x = new MutationObserver(function (mutations, observer) {{\n",
       "        var display = window.getComputedStyle(gd).display;\n",
       "        if (!display || display === 'none') {{\n",
       "            console.log([gd, 'removed!']);\n",
       "            Plotly.purge(gd);\n",
       "            observer.disconnect();\n",
       "        }}\n",
       "}});\n",
       "\n",
       "// Listen for the removal of the full notebook cells\n",
       "var notebookContainer = gd.closest('#notebook-container');\n",
       "if (notebookContainer) {{\n",
       "    x.observe(notebookContainer, {childList: true});\n",
       "}}\n",
       "\n",
       "// Listen for the clearing of the current output cell\n",
       "var outputEl = gd.closest('.output');\n",
       "if (outputEl) {{\n",
       "    x.observe(outputEl, {childList: true});\n",
       "}}\n",
       "\n",
       "                        })                };                });            </script>        </div>"
      ]
     },
     "metadata": {},
     "output_type": "display_data"
    },
    {
     "name": "stdout",
     "output_type": "stream",
     "text": [
      "{'assetModelId': '7852', 'taskId': '117418', 'name': '7852_117418_syntheticdata0averageaveragehistogram_org_i0.json', 'description': 'syntheticdata0Average.Average Histogram', 'file': ('7852_117418_syntheticdata0averageaveragehistogram_org_i0.json', <_io.BufferedReader name=\"<class 'type'>_syntheticdata0Average.Average Histogram\">, 'text/csv')}\n",
      "Saved plotly syntheticdata0Average.Average Histogram\n"
     ]
    }
   ],
   "source": [
    "import plotly.express as px\n",
    "fig = px.histogram(x = data[data.columns[2]])\n",
    "fig.show()\n",
    "client.save_plotly(fig, data.columns[2] + \" Histogram\")"
   ]
  },
  {
   "cell_type": "markdown",
   "metadata": {
    "cell_id": "00003-16b2c152-8348-4608-baf1-04f7f3299a81"
   },
   "source": [
    "## Matplotlib\n",
    " This also works with seaborn and other image-based visualization libraries"
   ]
  },
  {
   "cell_type": "code",
   "execution_count": 10,
   "metadata": {
    "cell_id": "00004-c395e5a9-a60e-4fe0-9c18-8c810c4ad7c4"
   },
   "outputs": [
    {
     "name": "stdout",
     "output_type": "stream",
     "text": [
      "{'assetModelId': '7852', 'taskId': '117418', 'name': '7852_117418_syntheticdata0averageaveragetrend_org_i0.png', 'description': 'syntheticdata0Average.Average Trend', 'file': ('7852_117418_syntheticdata0averageaveragetrend_org_i0.png', <_io.BufferedReader name=\"<class 'type'>_syntheticdata0Average.Average Trend\">, 'text/csv')}\n",
      "Saved image syntheticdata0Average.Average Trend\n"
     ]
    },
    {
     "data": {
      "image/png": "[encoded data removed]",
      "text/plain": [
       "<Figure size 432x288 with 1 Axes>"
      ]
     },
     "metadata": {
      "needs_background": "light"
     },
     "output_type": "display_data"
    }
   ],
   "source": [
    "import matplotlib.pyplot as plt\n",
    "fig = plt.figure()\n",
    "\n",
    "plt = data[data.columns[2]].plot()\n",
    "\n",
    "client.save_image(fig, data.columns[2] + \" Trend\")"
   ]
  },
  {
   "cell_type": "markdown",
   "metadata": {
    "cell_id": "00005-d5e52cce-af1f-4fd8-b744-6a022ce0b9be"
   },
   "source": [
    "## Write this cell's python code into the Model Factory task"
   ]
  },
  {
   "cell_type": "code",
   "execution_count": 11,
   "metadata": {
    "cell_id": "00006-0443ff01-97e2-435d-8be5-6a78b4a8a23d"
   },
   "outputs": [
    {
     "name": "stdout",
     "output_type": "stream",
     "text": [
      "Save this cell to TwinThread?(Y/n)y\n",
      "Test before uploading?(Y/n)n\n",
      "Cell contents uploaded to TwinThread task\n"
     ]
    }
   ],
   "source": [
    "%%upload_task PP-Engine-Testing_7852_13774_117418\n",
    "\n",
    "data = client.get_input_data()\n",
    "\n",
    "numerics = data.select_dtypes(exclude=\"O\")\n",
    "normalized = numerics / numerics.max()\n",
    "\n",
    "client.save_table(numerics.head(20), \"input\")\n"
   ]
  },
  {
   "cell_type": "code",
   "execution_count": 12,
   "metadata": {},
   "outputs": [
    {
     "name": "stdout",
     "output_type": "stream",
     "text": [
      "Save this cell to TwinThread?(Y/n)y\n",
      "Test before uploading?(Y/n)n\n",
      "Cell contents uploaded to TwinThread task\n"
     ]
    }
   ],
   "source": [
    "%%upload_task PP-Engine-Testing_7852_13774_117418\n",
    "\n",
    "fig = plt.figure()\n",
    "\n",
    "plt = data[data.columns[2]].plot()\n",
    "\n",
    "client.save_image(fig, data.columns[2] + \" Trend\")"
   ]
  },
  {
   "cell_type": "markdown",
   "metadata": {
    "cell_id": "00010-eccb92cb-2483-49be-99a9-3d1cf565448b",
    "tags": []
   },
   "source": [
    "# Visit your model\n",
    "\n",
    "After you've run the cells above you'll have new visualizations available on your model. [Visit your model](https://dev.twinthread.com/models/7852/workflow?operationName=Train) and click on the User Defined Task block to see them."
   ]
  }
 ],
 "metadata": {
  "deepnote_execution_queue": [],
  "deepnote_notebook_id": "e1152636-e437-458d-88ba-7cfffe2a5d9d",
  "kernelspec": {
   "display_name": "Python 3",
   "language": "python",
   "name": "python3"
  },
  "language_info": {
   "codemirror_mode": {
    "name": "ipython",
    "version": 3
   },
   "file_extension": ".py",
   "mimetype": "text/x-python",
   "name": "python",
   "nbconvert_exporter": "python",
   "pygments_lexer": "ipython3",
   "version": "3.6.10"
  }
 },
 "nbformat": 4,
 "nbformat_minor": 2
}
